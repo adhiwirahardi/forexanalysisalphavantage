{
 "cells": [
  {
   "cell_type": "code",
   "execution_count": 1,
   "id": "2aa96a6f",
   "metadata": {},
   "outputs": [
    {
     "data": {
      "application/javascript": [
       "IPython.notebook.set_autosave_interval(60000)"
      ]
     },
     "metadata": {},
     "output_type": "display_data"
    },
    {
     "name": "stdout",
     "output_type": "stream",
     "text": [
      "Autosaving every 60 seconds\n"
     ]
    }
   ],
   "source": [
    "import warnings \n",
    "warnings.filterwarnings('ignore')\n",
    "%autosave 60"
   ]
  },
  {
   "cell_type": "code",
   "execution_count": 2,
   "id": "09b8930b",
   "metadata": {},
   "outputs": [
    {
     "name": "stdout",
     "output_type": "stream",
     "text": [
      "Requirement already satisfied: alpha_vantage in c:\\users\\lenov\\anaconda3\\lib\\site-packages (2.3.1)\n",
      "Requirement already satisfied: requests in c:\\users\\lenov\\anaconda3\\lib\\site-packages (from alpha_vantage) (2.28.1)\n",
      "Requirement already satisfied: aiohttp in c:\\users\\lenov\\anaconda3\\lib\\site-packages (from alpha_vantage) (3.9.1)\n",
      "Requirement already satisfied: frozenlist>=1.1.1 in c:\\users\\lenov\\anaconda3\\lib\\site-packages (from aiohttp->alpha_vantage) (1.4.0)\n",
      "Requirement already satisfied: multidict<7.0,>=4.5 in c:\\users\\lenov\\anaconda3\\lib\\site-packages (from aiohttp->alpha_vantage) (6.0.4)\n",
      "Requirement already satisfied: attrs>=17.3.0 in c:\\users\\lenov\\anaconda3\\lib\\site-packages (from aiohttp->alpha_vantage) (21.4.0)\n",
      "Requirement already satisfied: yarl<2.0,>=1.0 in c:\\users\\lenov\\anaconda3\\lib\\site-packages (from aiohttp->alpha_vantage) (1.9.4)\n",
      "Requirement already satisfied: aiosignal>=1.1.2 in c:\\users\\lenov\\anaconda3\\lib\\site-packages (from aiohttp->alpha_vantage) (1.3.1)\n",
      "Requirement already satisfied: async-timeout<5.0,>=4.0 in c:\\users\\lenov\\anaconda3\\lib\\site-packages (from aiohttp->alpha_vantage) (4.0.3)\n",
      "Requirement already satisfied: urllib3<1.27,>=1.21.1 in c:\\users\\lenov\\anaconda3\\lib\\site-packages (from requests->alpha_vantage) (1.26.11)\n",
      "Requirement already satisfied: idna<4,>=2.5 in c:\\users\\lenov\\anaconda3\\lib\\site-packages (from requests->alpha_vantage) (3.3)\n",
      "Requirement already satisfied: certifi>=2017.4.17 in c:\\users\\lenov\\anaconda3\\lib\\site-packages (from requests->alpha_vantage) (2022.9.14)\n",
      "Requirement already satisfied: charset-normalizer<3,>=2 in c:\\users\\lenov\\anaconda3\\lib\\site-packages (from requests->alpha_vantage) (2.0.4)\n"
     ]
    }
   ],
   "source": [
    "!pip install alpha_vantage"
   ]
  },
  {
   "cell_type": "code",
   "execution_count": 3,
   "id": "ede04c31",
   "metadata": {},
   "outputs": [],
   "source": [
    "from alpha_vantage.timeseries import TimeSeries\n",
    "from alpha_vantage.foreignexchange import ForeignExchange"
   ]
  },
  {
   "cell_type": "code",
   "execution_count": 4,
   "id": "21afdccd",
   "metadata": {},
   "outputs": [
    {
     "name": "stdout",
     "output_type": "stream",
     "text": [
      "{'Meta Data': {'1. Information': 'Forex Daily Prices (open, high, low, close)', '2. From Symbol': 'GBP', '3. To Symbol': 'USD', '4. Output Size': 'Compact', '5. Last Refreshed': '2023-12-08 21:55:00', '6. Time Zone': 'UTC'}, 'Time Series FX (Daily)': {'2023-12-08': {'1. open': '1.25868', '2. high': '1.26013', '3. low': '1.25018', '4. close': '1.25483'}, '2023-12-07': {'1. open': '1.25574', '2. high': '1.26126', '3. low': '1.25440', '4. close': '1.25925'}, '2023-12-06': {'1. open': '1.25939', '2. high': '1.26134', '3. low': '1.25512', '4. close': '1.25594'}, '2023-12-05': {'1. open': '1.26316', '2. high': '1.26522', '3. low': '1.25769', '4. close': '1.25923'}, '2023-12-04': {'1. open': '1.26960', '2. high': '1.27245', '3. low': '1.26033', '4. close': '1.26326'}, '2023-12-01': {'1. open': '1.26224', '2. high': '1.27161', '3. low': '1.26136', '4. close': '1.27081'}, '2023-11-30': {'1. open': '1.26948', '2. high': '1.27108', '3. low': '1.26030', '4. close': '1.26217'}, '2023-11-29': {'1. open': '1.26925', '2. high': '1.27334', '3. low': '1.26644', '4. close': '1.26951'}, '2023-11-28': {'1. open': '1.26259', '2. high': '1.27149', '3. low': '1.26063', '4. close': '1.26927'}, '2023-11-27': {'1. open': '1.25990', '2. high': '1.26441', '3. low': '1.25905', '4. close': '1.26273'}, '2023-11-24': {'1. open': '1.25335', '2. high': '1.26153', '3. low': '1.25240', '4. close': '1.26014'}, '2023-11-23': {'1. open': '1.24926', '2. high': '1.25691', '3. low': '1.24878', '4. close': '1.25337'}, '2023-11-22': {'1. open': '1.25367', '2. high': '1.25493', '3. low': '1.24486', '4. close': '1.24930'}, '2023-11-21': {'1. open': '1.25041', '2. high': '1.25593', '3. low': '1.24958', '4. close': '1.25384'}, '2023-11-20': {'1. open': '1.24528', '2. high': '1.25176', '3. low': '1.24455', '4. close': '1.25042'}, '2023-11-17': {'1. open': '1.24129', '2. high': '1.24649', '3. low': '1.23735', '4. close': '1.24564'}, '2023-11-16': {'1. open': '1.24146', '2. high': '1.24560', '3. low': '1.23761', '4. close': '1.24141'}, '2023-11-15': {'1. open': '1.24980', '2. high': '1.24995', '3. low': '1.24033', '4. close': '1.24167'}, '2023-11-14': {'1. open': '1.22781', '2. high': '1.25060', '3. low': '1.22649', '4. close': '1.24973'}, '2023-11-13': {'1. open': '1.22182', '2. high': '1.22802', '3. low': '1.22103', '4. close': '1.22786'}, '2023-11-10': {'1. open': '1.22214', '2. high': '1.22379', '3. low': '1.21867', '4. close': '1.22237'}, '2023-11-09': {'1. open': '1.22840', '2. high': '1.23088', '3. low': '1.22122', '4. close': '1.22227'}, '2023-11-08': {'1. open': '1.22983', '2. high': '1.23017', '3. low': '1.22413', '4. close': '1.22845'}, '2023-11-07': {'1. open': '1.23443', '2. high': '1.23470', '3. low': '1.22620', '4. close': '1.22996'}, '2023-11-06': {'1. open': '1.23662', '2. high': '1.24284', '3. low': '1.23375', '4. close': '1.23442'}, '2023-11-03': {'1. open': '1.21995', '2. high': '1.23894', '3. low': '1.21840', '4. close': '1.23760'}, '2023-11-02': {'1. open': '1.21509', '2. high': '1.22253', '3. low': '1.21501', '4. close': '1.21994'}, '2023-11-01': {'1. open': '1.21480', '2. high': '1.21644', '3. low': '1.20953', '4. close': '1.21524'}, '2023-10-31': {'1. open': '1.21656', '2. high': '1.22004', '3. low': '1.21191', '4. close': '1.21482'}, '2023-10-30': {'1. open': '1.21208', '2. high': '1.21746', '3. low': '1.20897', '4. close': '1.21663'}, '2023-10-27': {'1. open': '1.21276', '2. high': '1.21624', '3. low': '1.21050', '4. close': '1.21220'}, '2023-10-26': {'1. open': '1.21091', '2. high': '1.21396', '3. low': '1.20690', '4. close': '1.21280'}, '2023-10-25': {'1. open': '1.21597', '2. high': '1.21760', '3. low': '1.21048', '4. close': '1.21088'}, '2023-10-24': {'1. open': '1.22438', '2. high': '1.22887', '3. low': '1.21528', '4. close': '1.21595'}, '2023-10-23': {'1. open': '1.21600', '2. high': '1.22588', '3. low': '1.21425', '4. close': '1.22438'}, '2023-10-20': {'1. open': '1.21413', '2. high': '1.21702', '3. low': '1.20929', '4. close': '1.21600'}, '2023-10-19': {'1. open': '1.21399', '2. high': '1.21917', '3. low': '1.20897', '4. close': '1.21421'}, '2023-10-18': {'1. open': '1.21826', '2. high': '1.22113', '3. low': '1.21362', '4. close': '1.21400'}, '2023-10-17': {'1. open': '1.22119', '2. high': '1.22163', '3. low': '1.21326', '4. close': '1.21847'}, '2023-10-16': {'1. open': '1.21435', '2. high': '1.22194', '3. low': '1.21406', '4. close': '1.22118'}, '2023-10-13': {'1. open': '1.21766', '2. high': '1.22252', '3. low': '1.21220', '4. close': '1.21378'}, '2023-10-12': {'1. open': '1.23106', '2. high': '1.23315', '3. low': '1.21702', '4. close': '1.21768'}, '2023-10-11': {'1. open': '1.22817', '2. high': '1.23375', '3. low': '1.22680', '4. close': '1.23110'}, '2023-10-10': {'1. open': '1.22380', '2. high': '1.22914', '3. low': '1.22114', '4. close': '1.22822'}, '2023-10-09': {'1. open': '1.22008', '2. high': '1.22443', '3. low': '1.21627', '4. close': '1.22384'}, '2023-10-06': {'1. open': '1.21910', '2. high': '1.22611', '3. low': '1.21053', '4. close': '1.22380'}, '2023-10-05': {'1. open': '1.21373', '2. high': '1.21960', '3. low': '1.21074', '4. close': '1.21900'}, '2023-10-04': {'1. open': '1.20746', '2. high': '1.21769', '3. low': '1.20369', '4. close': '1.21374'}, '2023-10-03': {'1. open': '1.20866', '2. high': '1.21015', '3. low': '1.20520', '4. close': '1.20760'}, '2023-10-02': {'1. open': '1.21954', '2. high': '1.22199', '3. low': '1.20831', '4. close': '1.20872'}, '2023-09-29': {'1. open': '1.22028', '2. high': '1.22719', '3. low': '1.21799', '4. close': '1.21970'}, '2023-09-28': {'1. open': '1.21364', '2. high': '1.22246', '3. low': '1.21198', '4. close': '1.22028'}, '2023-09-27': {'1. open': '1.21560', '2. high': '1.21642', '3. low': '1.21101', '4. close': '1.21366'}, '2023-09-26': {'1. open': '1.22100', '2. high': '1.22154', '3. low': '1.21512', '4. close': '1.21543'}, '2023-09-25': {'1. open': '1.22369', '2. high': '1.22501', '3. low': '1.21932', '4. close': '1.22096'}, '2023-09-22': {'1. open': '1.22924', '2. high': '1.22942', '3. low': '1.22303', '4. close': '1.22390'}, '2023-09-21': {'1. open': '1.23449', '2. high': '1.23449', '3. low': '1.22322', '4. close': '1.22911'}, '2023-09-20': {'1. open': '1.23911', '2. high': '1.24213', '3. low': '1.23316', '4. close': '1.23420'}, '2023-09-19': {'1. open': '1.23840', '2. high': '1.24248', '3. low': '1.23696', '4. close': '1.23919'}, '2023-09-18': {'1. open': '1.23832', '2. high': '1.24104', '3. low': '1.23698', '4. close': '1.23850'}, '2023-09-15': {'1. open': '1.24070', '2. high': '1.24460', '3. low': '1.23784', '4. close': '1.23813'}, '2023-09-14': {'1. open': '1.24893', '2. high': '1.25062', '3. low': '1.23960', '4. close': '1.24081'}, '2023-09-13': {'1. open': '1.24882', '2. high': '1.25116', '3. low': '1.24338', '4. close': '1.24895'}, '2023-09-12': {'1. open': '1.25106', '2. high': '1.25299', '3. low': '1.24590', '4. close': '1.24880'}, '2023-09-11': {'1. open': '1.24746', '2. high': '1.25479', '3. low': '1.24678', '4. close': '1.25098'}, '2023-09-08': {'1. open': '1.24704', '2. high': '1.25144', '3. low': '1.24508', '4. close': '1.24650'}, '2023-09-07': {'1. open': '1.25008', '2. high': '1.25080', '3. low': '1.24455', '4. close': '1.24710'}, '2023-09-06': {'1. open': '1.25649', '2. high': '1.25876', '3. low': '1.24815', '4. close': '1.24997'}, '2023-09-05': {'1. open': '1.26268', '2. high': '1.26317', '3. low': '1.25276', '4. close': '1.25649'}, '2023-09-04': {'1. open': '1.25881', '2. high': '1.26423', '3. low': '1.25857', '4. close': '1.26264'}, '2023-09-01': {'1. open': '1.26713', '2. high': '1.27128', '3. low': '1.25770', '4. close': '1.25856'}, '2023-08-31': {'1. open': '1.27193', '2. high': '1.27341', '3. low': '1.26522', '4. close': '1.26715'}, '2023-08-30': {'1. open': '1.26446', '2. high': '1.27461', '3. low': '1.26184', '4. close': '1.27180'}, '2023-08-29': {'1. open': '1.25996', '2. high': '1.26550', '3. low': '1.25624', '4. close': '1.26430'}, '2023-08-28': {'1. open': '1.25798', '2. high': '1.26107', '3. low': '1.25652', '4. close': '1.25996'}, '2023-08-25': {'1. open': '1.26038', '2. high': '1.26544', '3. low': '1.25474', '4. close': '1.25746'}, '2023-08-24': {'1. open': '1.27181', '2. high': '1.27286', '3. low': '1.25906', '4. close': '1.26039'}, '2023-08-23': {'1. open': '1.27287', '2. high': '1.27645', '3. low': '1.26143', '4. close': '1.27174'}, '2023-08-22': {'1. open': '1.27558', '2. high': '1.28004', '3. low': '1.27182', '4. close': '1.27291'}, '2023-08-21': {'1. open': '1.27313', '2. high': '1.27670', '3. low': '1.27100', '4. close': '1.27549'}, '2023-08-18': {'1. open': '1.27452', '2. high': '1.27659', '3. low': '1.26887', '4. close': '1.27300'}, '2023-08-17': {'1. open': '1.27307', '2. high': '1.27873', '3. low': '1.27023', '4. close': '1.27463'}, '2023-08-16': {'1. open': '1.27000', '2. high': '1.27662', '3. low': '1.26866', '4. close': '1.27306'}, '2023-08-15': {'1. open': '1.26830', '2. high': '1.27523', '3. low': '1.26748', '4. close': '1.26997'}, '2023-08-14': {'1. open': '1.26957', '2. high': '1.27146', '3. low': '1.26162', '4. close': '1.26831'}, '2023-08-11': {'1. open': '1.26750', '2. high': '1.27383', '3. low': '1.26655', '4. close': '1.26940'}, '2023-08-10': {'1. open': '1.27183', '2. high': '1.28187', '3. low': '1.26688', '4. close': '1.26752'}, '2023-08-09': {'1. open': '1.27422', '2. high': '1.27819', '3. low': '1.27116', '4. close': '1.27170'}, '2023-08-08': {'1. open': '1.27811', '2. high': '1.27853', '3. low': '1.26838', '4. close': '1.27433'}, '2023-08-07': {'1. open': '1.27435', '2. high': '1.27889', '3. low': '1.27127', '4. close': '1.27800'}, '2023-08-04': {'1. open': '1.27086', '2. high': '1.27922', '3. low': '1.26834', '4. close': '1.27448'}, '2023-08-03': {'1. open': '1.27111', '2. high': '1.27281', '3. low': '1.26200', '4. close': '1.27081'}, '2023-08-02': {'1. open': '1.27887', '2. high': '1.28049', '3. low': '1.26800', '4. close': '1.27111'}, '2023-08-01': {'1. open': '1.28367', '2. high': '1.28410', '3. low': '1.27407', '4. close': '1.27870'}, '2023-07-31': {'1. open': '1.28517', '2. high': '1.28730', '3. low': '1.28280', '4. close': '1.28352'}, '2023-07-28': {'1. open': '1.27962', '2. high': '1.28876', '3. low': '1.27626', '4. close': '1.28442'}, '2023-07-27': {'1. open': '1.29433', '2. high': '1.29958', '3. low': '1.27816', '4. close': '1.27948'}, '2023-07-26': {'1. open': '1.29007', '2. high': '1.29601', '3. low': '1.28750', '4. close': '1.29430'}, '2023-07-25': {'1. open': '1.28237', '2. high': '1.29047', '3. low': '1.28090', '4. close': '1.28999'}, '2023-07-24': {'1. open': '1.28511', '2. high': '1.28840', '3. low': '1.27975', '4. close': '1.28236'}}}\n"
     ]
    }
   ],
   "source": [
    "import requests\n",
    "\n",
    "# replace the \"demo\" apikey below with your own key from https://www.alphavantage.co/support/#api-key\n",
    "url = 'https://www.alphavantage.co/query?function=FX_DAILY&from_symbol=GBP&to_symbol=USD&apikey=GMLKADN2XG9IP5DG'\n",
    "r = requests.get(url)\n",
    "data = r.json()\n",
    "\n",
    "print(data)"
   ]
  },
  {
   "cell_type": "code",
   "execution_count": 5,
   "id": "9697a790",
   "metadata": {},
   "outputs": [],
   "source": [
    "import numpy as np\n",
    "import pandas as pd\n",
    "from sklearn.preprocessing import MinMaxScaler"
   ]
  },
  {
   "cell_type": "code",
   "execution_count": 6,
   "id": "e0fda04d",
   "metadata": {},
   "outputs": [],
   "source": [
    "df = pd.DataFrame(data['Time Series FX (Daily)']).T\n",
    "df = df.astype(float)"
   ]
  },
  {
   "cell_type": "code",
   "execution_count": 7,
   "id": "9c3ef604",
   "metadata": {},
   "outputs": [],
   "source": [
    "# Extract features and labels\n",
    "features = df[['1. open', '2. high', '3. low', '4. close']].values\n",
    "labels = df['4. close'].shift(-1).fillna(method='ffill').values"
   ]
  },
  {
   "cell_type": "code",
   "execution_count": 11,
   "id": "5f2015f2",
   "metadata": {},
   "outputs": [
    {
     "name": "stdout",
     "output_type": "stream",
     "text": [
      "WARNING:tensorflow:From C:\\Users\\lenov\\anaconda3\\lib\\site-packages\\keras\\src\\losses.py:2976: The name tf.losses.sparse_softmax_cross_entropy is deprecated. Please use tf.compat.v1.losses.sparse_softmax_cross_entropy instead.\n",
      "\n"
     ]
    }
   ],
   "source": [
    "import numpy as np\n",
    "import pandas as pd\n",
    "from sklearn.preprocessing import MinMaxScaler\n",
    "from tensorflow.keras.models import Sequential\n",
    "from tensorflow.keras.layers import LSTM, Dense\n",
    "from tensorflow.keras.callbacks import EarlyStopping\n"
   ]
  },
  {
   "cell_type": "code",
   "execution_count": 12,
   "id": "c880e346",
   "metadata": {},
   "outputs": [
    {
     "name": "stdout",
     "output_type": "stream",
     "text": [
      "WARNING:tensorflow:From C:\\Users\\lenov\\anaconda3\\lib\\site-packages\\keras\\src\\backend.py:873: The name tf.get_default_graph is deprecated. Please use tf.compat.v1.get_default_graph instead.\n",
      "\n",
      "WARNING:tensorflow:From C:\\Users\\lenov\\anaconda3\\lib\\site-packages\\keras\\src\\optimizers\\__init__.py:309: The name tf.train.Optimizer is deprecated. Please use tf.compat.v1.train.Optimizer instead.\n",
      "\n",
      "Epoch 1/50\n",
      "WARNING:tensorflow:From C:\\Users\\lenov\\anaconda3\\lib\\site-packages\\keras\\src\\utils\\tf_utils.py:492: The name tf.ragged.RaggedTensorValue is deprecated. Please use tf.compat.v1.ragged.RaggedTensorValue instead.\n",
      "\n",
      "3/3 [==============================] - 3s 267ms/step - loss: 0.1606 - val_loss: 0.5179\n",
      "Epoch 2/50\n",
      "3/3 [==============================] - 0s 15ms/step - loss: 0.1293 - val_loss: 0.4085\n",
      "Epoch 3/50\n",
      "3/3 [==============================] - 0s 15ms/step - loss: 0.0997 - val_loss: 0.2928\n",
      "Epoch 4/50\n",
      "3/3 [==============================] - 0s 16ms/step - loss: 0.0677 - val_loss: 0.1752\n",
      "Epoch 5/50\n",
      "3/3 [==============================] - 0s 15ms/step - loss: 0.0401 - val_loss: 0.0724\n",
      "Epoch 6/50\n",
      "3/3 [==============================] - 0s 14ms/step - loss: 0.0195 - val_loss: 0.0157\n",
      "Epoch 7/50\n",
      "3/3 [==============================] - 0s 14ms/step - loss: 0.0159 - val_loss: 0.0084\n",
      "Epoch 8/50\n",
      "3/3 [==============================] - 0s 15ms/step - loss: 0.0200 - val_loss: 0.0082\n",
      "Epoch 9/50\n",
      "3/3 [==============================] - 0s 15ms/step - loss: 0.0175 - val_loss: 0.0140\n",
      "Epoch 10/50\n",
      "3/3 [==============================] - 0s 14ms/step - loss: 0.0147 - val_loss: 0.0261\n",
      "Epoch 11/50\n",
      "3/3 [==============================] - 0s 15ms/step - loss: 0.0141 - val_loss: 0.0315\n",
      "Epoch 12/50\n",
      "3/3 [==============================] - 0s 14ms/step - loss: 0.0141 - val_loss: 0.0318\n",
      "Epoch 13/50\n",
      "3/3 [==============================] - 0s 14ms/step - loss: 0.0135 - val_loss: 0.0253\n",
      "1/1 [==============================] - 0s 450ms/step\n",
      "1/1 [==============================] - 0s 15ms/step\n",
      "1/1 [==============================] - 0s 29ms/step\n",
      "1/1 [==============================] - 0s 16ms/step\n",
      "1/1 [==============================] - 0s 16ms/step\n",
      "Predicted values for Day 1: Close - 1.2818640643668175, High - 1.2926753061127663, Low - 1.2852147794491053\n",
      "Predicted values for Day 2: Close - 1.282692609269023, High - 1.2934169307005405, Low - 1.2859808390450478\n",
      "Predicted values for Day 3: Close - 1.2841461265069245, High - 1.294839604717493, Low - 1.287526655802727\n",
      "Predicted values for Day 4: Close - 1.2852447535294294, High - 1.295676367058754, Low - 1.288591009616852\n",
      "Predicted values for Day 5: Close - 1.2856923066467048, High - 1.2959824677699805, Low - 1.2888473369312288\n"
     ]
    }
   ],
   "source": [
    "# Convert the data to a DataFrame\n",
    "df = pd.DataFrame(data['Time Series FX (Daily)']).T\n",
    "\n",
    "# Convert index to datetime\n",
    "df.index = pd.to_datetime(df.index)\n",
    "\n",
    "# Convert data types to float\n",
    "for col in df.columns:\n",
    "    df[col] = df[col].astype(float)\n",
    "\n",
    "# Feature Engineering\n",
    "df['previous_close'] = df['4. close'].shift(1)\n",
    "\n",
    "# Drop missing values\n",
    "df.dropna(inplace=True)\n",
    "\n",
    "# Normalize the data\n",
    "scaler = MinMaxScaler()\n",
    "scaled_data = scaler.fit_transform(df)\n",
    "\n",
    "# Define sequence length\n",
    "sequence_length = 5  # Length of the sequences\n",
    "\n",
    "# Generate sequences for LSTM\n",
    "sequences = []\n",
    "targets = []\n",
    "\n",
    "for i in range(len(df) - sequence_length):\n",
    "    sequences.append(scaled_data[i:i + sequence_length])\n",
    "    targets.append(scaled_data[i + sequence_length])\n",
    "\n",
    "# Convert sequences and targets to numpy arrays\n",
    "sequences = np.array(sequences)\n",
    "targets = np.array(targets)\n",
    "\n",
    "# Split data into training and testing sets\n",
    "train_size = int(len(sequences) * 0.8)  # 80% for training\n",
    "test_size = len(sequences) - train_size\n",
    "\n",
    "train_sequences = sequences[:train_size]\n",
    "train_targets = targets[:train_size]\n",
    "\n",
    "test_sequences = sequences[train_size:]\n",
    "test_targets = targets[train_size:]\n",
    "\n",
    "# Build LSTM model\n",
    "model = Sequential()\n",
    "model.add(LSTM(units=50, return_sequences=True, input_shape=(sequence_length, df.shape[1])))\n",
    "model.add(LSTM(units=50))\n",
    "model.add(Dense(units=df.shape[1]))\n",
    "\n",
    "# Compile the model\n",
    "model.compile(optimizer='adam', loss='mean_squared_error')\n",
    "\n",
    "# Early stopping to prevent overfitting\n",
    "early_stopping = EarlyStopping(monitor='val_loss', patience=5, restore_best_weights=True)\n",
    "\n",
    "# Train the model\n",
    "history = model.fit(train_sequences, train_targets, epochs=50, batch_size=32, validation_data=(test_sequences, test_targets), callbacks=[early_stopping])\n",
    "\n",
    "# Predict future values (next 'n_days_to_predict' days)\n",
    "n_days_to_predict = 5\n",
    "predicted_values = []\n",
    "\n",
    "# Take the last 'sequence_length' days as the initial sequence for prediction\n",
    "current_sequence = sequences[-1]\n",
    "\n",
    "for _ in range(n_days_to_predict):\n",
    "    # Reshape the current sequence for prediction\n",
    "    current_sequence = current_sequence.reshape((1, sequence_length, df.shape[1]))\n",
    "\n",
    "    # Predict the next day's values (close, high, low)\n",
    "    next_day_prediction = model.predict(current_sequence)\n",
    "    predicted_values.append(next_day_prediction[0])\n",
    "\n",
    "    # Update the current sequence to include the predicted value\n",
    "    current_sequence = np.append(current_sequence[:, 1:, :], [next_day_prediction], axis=1)\n",
    "\n",
    "# Inverse transform the predicted values to get actual values\n",
    "predicted_values = scaler.inverse_transform(predicted_values)\n",
    "\n",
    "# Display the predicted values for the next 'n_days_to_predict' days\n",
    "for i, pred in enumerate(predicted_values, 1):\n",
    "    print(f\"Predicted values for Day {i}: Close - {pred[0]}, High - {pred[1]}, Low - {pred[2]}\")\n",
    "\n",
    "    "
   ]
  },
  {
   "cell_type": "code",
   "execution_count": 13,
   "id": "b945121f",
   "metadata": {},
   "outputs": [
    {
     "name": "stdout",
     "output_type": "stream",
     "text": [
      "1/1 [==============================] - 0s 16ms/step\n",
      "MSE for feature 1: 5.9542584476398934e-05\n",
      "MSE for feature 2: 3.966282420269424e-05\n",
      "MSE for feature 3: 4.386124537739107e-05\n",
      "MSE for feature 4: 8.614555709410722e-05\n",
      "MSE for feature 5: 7.773470739604593e-05\n",
      "MAE for feature 1: 0.005887106453744976\n",
      "MAE for feature 2: 0.004843101802625161\n",
      "MAE for feature 3: 0.005404266140586457\n",
      "MAE for feature 4: 0.0079521055020784\n",
      "MAE for feature 5: 0.007673441842731683\n",
      "RMSE for feature 1: 0.007716384158166241\n",
      "RMSE for feature 2: 0.006297842821371\n",
      "RMSE for feature 3: 0.00662278229880698\n",
      "RMSE for feature 4: 0.009281463090165646\n",
      "RMSE for feature 5: 0.008816728837615792\n"
     ]
    }
   ],
   "source": [
    "from sklearn.metrics import mean_squared_error, mean_absolute_error\n",
    "import numpy as np\n",
    "\n",
    "# Inverse transform the test targets to get actual values\n",
    "actual_test_targets = scaler.inverse_transform(test_targets)\n",
    "\n",
    "# Inverse transform the predicted values to get actual values\n",
    "predicted_values_inverse = scaler.inverse_transform(model.predict(test_sequences))\n",
    "\n",
    "# Calculate Mean Squared Error (MSE) for each feature\n",
    "mse_list = []\n",
    "for i in range(actual_test_targets.shape[1]):\n",
    "    mse = mean_squared_error(actual_test_targets[:, i], predicted_values_inverse[:, i])\n",
    "    mse_list.append(mse)\n",
    "    print(f\"MSE for feature {i + 1}: {mse}\")\n",
    "\n",
    "# Calculate Mean Absolute Error (MAE) for each feature\n",
    "mae_list = []\n",
    "for i in range(actual_test_targets.shape[1]):\n",
    "    mae = mean_absolute_error(actual_test_targets[:, i], predicted_values_inverse[:, i])\n",
    "    mae_list.append(mae)\n",
    "    print(f\"MAE for feature {i + 1}: {mae}\")\n",
    "\n",
    "# Calculate Root Mean Squared Error (RMSE) for each feature\n",
    "rmse_list = [np.sqrt(mse) for mse in mse_list]\n",
    "for i, rmse in enumerate(rmse_list, 1):\n",
    "    print(f\"RMSE for feature {i}: {rmse}\")\n"
   ]
  },
  {
   "cell_type": "code",
   "execution_count": null,
   "id": "0e04d1aa",
   "metadata": {},
   "outputs": [],
   "source": []
  }
 ],
 "metadata": {
  "kernelspec": {
   "display_name": "Python 3 (ipykernel)",
   "language": "python",
   "name": "python3"
  },
  "language_info": {
   "codemirror_mode": {
    "name": "ipython",
    "version": 3
   },
   "file_extension": ".py",
   "mimetype": "text/x-python",
   "name": "python",
   "nbconvert_exporter": "python",
   "pygments_lexer": "ipython3",
   "version": "3.9.13"
  }
 },
 "nbformat": 4,
 "nbformat_minor": 5
}
